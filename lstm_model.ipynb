{
 "nbformat": 4,
 "nbformat_minor": 2,
 "metadata": {
  "language_info": {
   "name": "python",
   "codemirror_mode": {
    "name": "ipython",
    "version": 3
   },
   "version": "3.7.0-final"
  },
  "orig_nbformat": 2,
  "file_extension": ".py",
  "mimetype": "text/x-python",
  "name": "python",
  "npconvert_exporter": "python",
  "pygments_lexer": "ipython3",
  "version": 3,
  "kernelspec": {
   "name": "python3",
   "display_name": "Python 3"
  }
 },
 "cells": [
  {
   "cell_type": "code",
   "execution_count": 1,
   "metadata": {},
   "outputs": [],
   "source": [
    "import utilStock\n",
    "import datapreprocess\n",
    "import pymssql as mssql"
   ]
  },
  {
   "cell_type": "code",
   "execution_count": 2,
   "metadata": {},
   "outputs": [],
   "source": [
    "from tensorflow.keras.models import Sequential\n",
    "from tensorflow.keras.layers import Input, Flatten, Dense, LSTM, Conv1D, TimeDistributed, Dropout\n",
    "from tensorflow.keras.layers import LeakyReLU"
   ]
  },
  {
   "cell_type": "code",
   "execution_count": 3,
   "metadata": {},
   "outputs": [],
   "source": [
    "import numpy as np\n",
    "import math\n",
    "from sklearn.metrics import mean_squared_error\n",
    "import matplotlib.pyplot as plt\n"
   ]
  },
  {
   "cell_type": "code",
   "execution_count": 4,
   "metadata": {},
   "outputs": [],
   "source": [
    "\n",
    "#data params\n",
    "train_ratio = 0.7\n",
    "\n",
    "# Convolution\n",
    "kernel_size = 3\n",
    "filters = 64\n",
    "pool_size = 2\n",
    "\n",
    "feature_num = 4\n",
    "data_size = 5\n",
    "date_size = 10\n"
   ]
  },
  {
   "cell_type": "code",
   "execution_count": 10,
   "metadata": {},
   "outputs": [
    {
     "name": "stdout",
     "output_type": "stream",
     "text": "sql: SELECT * FROM STOCK_INFO\nsql: SEL_STOCK_TRAINING_DATA 031390    \nsql: SEL_STOCK_TRAINING_DATA 137940    \nsql: SEL_STOCK_TRAINING_DATA 900100    \nsql: SEL_STOCK_TRAINING_DATA 004970    \nsql: SEL_STOCK_TRAINING_DATA 263920    \n"
    }
   ],
   "source": [
    "# 트레인 테스트 데이터 생성\n",
    "server, user, password, database = utilStock.ParseConfig('config.ini')\n",
    "connect = mssql.connect(server=server, user=user, password=password, database=database, charset='UTF8')\n",
    "cur = connect.cursor()\n",
    "info = utilStock.LoadStockInfo(cur)\n",
    "data, label = datapreprocess.getFinanceInfoLabelto2DArray(cur, info, data_size= data_size, date_size= date_size, scaler=True)\n",
    "data = np.reshape(data, (data.shape[0], 1, data.shape[1]*data.shape[2] ))\n",
    "\n",
    "train_Data = data[ 0 : int(len(data) * train_ratio)]\n",
    "train_Label = label[ 0 : int(len(data) * train_ratio)]\n",
    "\n",
    "test_Data = data[int(len(data) * train_ratio) : len(data)]\n",
    "test_Label = label[int(len(data) * train_ratio) : len(data)]"
   ]
  },
  {
   "cell_type": "code",
   "execution_count": null,
   "metadata": {},
   "outputs": [],
   "source": [
    "\n",
    "model = Sequential()\n",
    "'''\n",
    "model.add(Conv1D(filters=32,\n",
    "                kernel_size=2,\n",
    "                strides=1,\n",
    "                input_shape=(date_size,feature_num,1)))\n",
    "\n",
    "model.add(LeakyReLU(alpha=0.2))\n",
    "model.add(Flatten())\n",
    "'''\n",
    "#model.add(LSTM(4, activation='tanh', input_shape=(date_size,feature_num)))\n",
    "model.add(LSTM(50, return_sequences=True, input_shape=(date_size, feature_num)))\n",
    "model.add(LSTM(64, return_sequences=False))\n",
    "#model.add(Dropout(0, 2))\n",
    "#model.add(LeakyReLU(alpha=0.2))\n",
    "model.add(Dense(1, activation='linear'))\n",
    "model.compile(loss='mse', optimizer='adam', metrics=['acc'])\n",
    "\n",
    "print('Model Build...')\n",
    "model.summary()\n",
    "\n",
    "print('Train...')\n",
    "model.fit(train_Data, train_Label,\n",
    "            epochs=100,\n",
    "            batch_size=32, verbose=2,\n",
    "            validation_data=(test_Data, test_Label))\n",
    "\n",
    "testPredict = model.predict(test_Data)\n",
    "testScore = math.sqrt(mean_squared_error(test_Label, testPredict))\n",
    "print('Train Score: %.2f RMSE' % testScore)\n",
    "\n",
    "fig = plt.figure(facecolor='white', figsize=(10, 5))\n",
    "ax = fig.add_subplot(111)\n",
    "ax.plot(test_Label, label='True')\n",
    "ax.plot(testPredict, label='Prediction')\n",
    "ax.legend()\n",
    "plt.show()\n",
    "'''\n",
    "score, acc = model.evaluate(test_Data, test_Label)\n",
    "print('Test score:', score)\n",
    "print('Test accuracy:', acc)\n",
    "'''"
   ]
  }
 ]
}